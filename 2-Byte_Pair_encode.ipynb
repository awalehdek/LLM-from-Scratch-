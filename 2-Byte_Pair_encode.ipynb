{
 "cells": [
  {
   "cell_type": "markdown",
   "id": "d066c078-9e9d-45ca-9498-2023d507fb3b",
   "metadata": {},
   "source": [
    "# Step-by-Step Explanation of Byte Pair Encoding (BPE)\n",
    "\n",
    "#### Step 1 - Initialize Vocabulary: \n",
    "    - Individual characters (a, b, c, ..., space, punctuation\n",
    "    - Each character becomes a token in the initial vocabulary\n",
    "\n",
    "#### Step 2 - Train on Corpus:\n",
    "    -Count frequency of all adjacent token pairs in the training data: \n",
    "    - Find the most frequent pair (e.g., \"e\" + \"s\" = \"es\")\n",
    "\n",
    "#### Step 3 - Merge Most Frequent Pair: \n",
    "    - Replace all occurrences of that pair with a new single token\n",
    "    - Add this new merged token to vocabulary\n",
    "#### Step 4 - Repeat: \n",
    "    - Continue counting and merging until desired vocabulary size\n",
    "    - Each iteration creates more complex subword units"
   ]
  },
  {
   "cell_type": "code",
   "execution_count": null,
   "id": "e6a78266-ef10-43cf-9e83-16f4c2f40404",
   "metadata": {},
   "outputs": [],
   "source": [
    "\"\"\"\n",
    "Initial: \"low\", \"lower\", \"newest\"\n",
    "Char vocab: l, o, w, e, r, n, s, t\n",
    "\n",
    "Iteration 1: Most frequent pair \"e\" + \"s\" → merge to \"es\"\n",
    "Iteration 2: Most frequent pair \"es\" + \"t\" → merge to \"est\"  \n",
    "Iteration 3: Most frequent pair \"l\" + \"o\" → merge to \"lo\"\n",
    "\"\"\""
   ]
  },
  {
   "cell_type": "code",
   "execution_count": 6,
   "id": "f94591f8-7bec-4ca6-847c-ab8205c0ace4",
   "metadata": {},
   "outputs": [
    {
     "name": "stdout",
     "output_type": "stream",
     "text": [
      "defaultdict(<class 'int'>, {('l', 'o'): 7, ('o', 'w'): 7, ('w', 'e'): 8, ('e', 'r'): 2, ('n', 'e'): 6, ('e', 'w'): 6, ('e', 's'): 9, ('s', 't'): 9, ('w', 'i'): 3, ('i', 'd'): 3, ('d', 'e'): 3})\n"
     ]
    }
   ],
   "source": [
    "import re\n",
    "from collections import defaultdict\n",
    "\n",
    "def get_stats(vocab):\n",
    "    \"\"\"Count frequency of adjacent symbol pairs\"\"\"\n",
    "    pairs = defaultdict(int)\n",
    "    \n",
    "    for word, freq in vocab.items():\n",
    "        symbols = word.split()\n",
    "        for i in range(len(symbols)-1):\n",
    "            pairs[symbols[i], symbols[i+1]] += freq\n",
    "    return pairs\n",
    "corpus = {\n",
    "    \"l o w\": 5,\n",
    "    \"l o w e r\": 2, \n",
    "    \"n e w e s t\": 6,\n",
    "    \"w i d e s t\": 3\n",
    "}\n",
    "print(get_stats(corpus))"
   ]
  },
  {
   "cell_type": "code",
   "execution_count": null,
   "id": "b81d759e-4b7c-4080-a172-821f4ffa5315",
   "metadata": {},
   "outputs": [],
   "source": []
  }
 ],
 "metadata": {
  "kernelspec": {
   "display_name": "Python 3 (ipykernel)",
   "language": "python",
   "name": "python3"
  },
  "language_info": {
   "codemirror_mode": {
    "name": "ipython",
    "version": 3
   },
   "file_extension": ".py",
   "mimetype": "text/x-python",
   "name": "python",
   "nbconvert_exporter": "python",
   "pygments_lexer": "ipython3",
   "version": "3.13.5"
  }
 },
 "nbformat": 4,
 "nbformat_minor": 5
}
