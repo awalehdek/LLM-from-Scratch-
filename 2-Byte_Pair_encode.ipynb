{
 "cells": [
  {
   "cell_type": "markdown",
   "id": "d066c078-9e9d-45ca-9498-2023d507fb3b",
   "metadata": {},
   "source": [
    "# Step-by-Step Explanation of Byte Pair Encoding (BPE)\n",
    "\n",
    "#### Step 1 - Initialize Vocabulary: \n",
    "    - Individual characters (a, b, c, ..., space, punctuation\n",
    "    - Each character becomes a token in the initial vocabulary\n",
    "\n",
    "#### Step 2 - Train on Corpus:\n",
    "    -Count frequency of all adjacent token pairs in the training data: \n",
    "    - Find the most frequent pair (e.g., \"e\" + \"s\" = \"es\")\n",
    "\n",
    "## Step 3 - Merge Most Frequent Pair: \n",
    "    - Replace all occurrences of that pair with a new single token\n",
    "    - Add this new merged token to vocabulary\n",
    "## Step 4 - Repeat: \n",
    "    - Continue counting and merging until desired vocabulary size\n",
    "    - Each iteration creates more complex subword units"
   ]
  },
  {
   "cell_type": "code",
   "execution_count": null,
   "id": "e6a78266-ef10-43cf-9e83-16f4c2f40404",
   "metadata": {},
   "outputs": [],
   "source": [
    "\"\"\"\n",
    "Initial: \"low\", \"lower\", \"newest\"\n",
    "Char vocab: l, o, w, e, r, n, s, t\n",
    "\n",
    "Iteration 1: Most frequent pair \"e\" + \"s\" → merge to \"es\"\n",
    "Iteration 2: Most frequent pair \"es\" + \"t\" → merge to \"est\"  \n",
    "Iteration 3: Most frequent pair \"l\" + \"o\" → merge to \"lo\"\n",
    "\"\"\""
   ]
  }
 ],
 "metadata": {
  "kernelspec": {
   "display_name": "Python 3 (ipykernel)",
   "language": "python",
   "name": "python3"
  },
  "language_info": {
   "codemirror_mode": {
    "name": "ipython",
    "version": 3
   },
   "file_extension": ".py",
   "mimetype": "text/x-python",
   "name": "python",
   "nbconvert_exporter": "python",
   "pygments_lexer": "ipython3",
   "version": "3.13.5"
  }
 },
 "nbformat": 4,
 "nbformat_minor": 5
}
