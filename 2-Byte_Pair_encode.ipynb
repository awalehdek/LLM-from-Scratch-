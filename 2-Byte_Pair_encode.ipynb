{
 "cells": [
  {
   "cell_type": "markdown",
   "id": "d066c078-9e9d-45ca-9498-2023d507fb3b",
   "metadata": {},
   "source": [
    "# Step-by-Step Explanation of Byte Pair Encoding (BPE)\n",
    "\n",
    "#### Step 1 - Initialize Vocabulary: \n",
    "    - Individual characters (a, b, c, ..., space, punctuation\n",
    "    - Each character becomes a token in the initial vocabulary\n",
    "\n",
    "#### Step 2 - Train on Corpus:\n",
    "    -Count frequency of all adjacent token pairs in the training data: \n",
    "    - Find the most frequent pair (e.g., \"e\" + \"s\" = \"es\")\n",
    "\n",
    "#### Step 3 - Merge Most Frequent Pair: \n",
    "    - Replace all occurrences of that pair with a new single token\n",
    "    - Add this new merged token to vocabulary\n",
    "#### Step 4 - Repeat: \n",
    "    - Continue counting and merging until desired vocabulary size\n",
    "    - Each iteration creates more complex subword units"
   ]
  },
  {
   "cell_type": "code",
   "execution_count": null,
   "id": "e6a78266-ef10-43cf-9e83-16f4c2f40404",
   "metadata": {},
   "outputs": [],
   "source": [
    "\"\"\"\n",
    "Initial: \"low\", \"lower\", \"newest\"\n",
    "Char vocab: l, o, w, e, r, n, s, t\n",
    "\n",
    "Iteration 1: Most frequent pair \"e\" + \"s\" → merge to \"es\"\n",
    "Iteration 2: Most frequent pair \"es\" + \"t\" → merge to \"est\"  \n",
    "Iteration 3: Most frequent pair \"l\" + \"o\" → merge to \"lo\"\n",
    "\"\"\""
   ]
  },
  {
   "cell_type": "code",
   "execution_count": 5,
   "id": "f94591f8-7bec-4ca6-847c-ab8205c0ace4",
   "metadata": {},
   "outputs": [
    {
     "ename": "KeyError",
     "evalue": "('l', 'o')",
     "output_type": "error",
     "traceback": [
      "\u001b[31m---------------------------------------------------------------------------\u001b[39m",
      "\u001b[31mKeyError\u001b[39m                                  Traceback (most recent call last)",
      "\u001b[36mCell\u001b[39m\u001b[36m \u001b[39m\u001b[32mIn[5]\u001b[39m\u001b[32m, line 19\u001b[39m\n\u001b[32m     12\u001b[39m     \u001b[38;5;28;01mreturn\u001b[39;00m pairs\n\u001b[32m     13\u001b[39m corpus = {\n\u001b[32m     14\u001b[39m     \u001b[33m\"\u001b[39m\u001b[33ml o w\u001b[39m\u001b[33m\"\u001b[39m: \u001b[32m5\u001b[39m,\n\u001b[32m     15\u001b[39m     \u001b[33m\"\u001b[39m\u001b[33ml o w e r\u001b[39m\u001b[33m\"\u001b[39m: \u001b[32m2\u001b[39m, \n\u001b[32m     16\u001b[39m     \u001b[33m\"\u001b[39m\u001b[33mn e w e s t\u001b[39m\u001b[33m\"\u001b[39m: \u001b[32m6\u001b[39m,\n\u001b[32m     17\u001b[39m     \u001b[33m\"\u001b[39m\u001b[33mw i d e s t\u001b[39m\u001b[33m\"\u001b[39m: \u001b[32m3\u001b[39m\n\u001b[32m     18\u001b[39m }\n\u001b[32m---> \u001b[39m\u001b[32m19\u001b[39m \u001b[38;5;28mprint\u001b[39m(\u001b[43mget_stats\u001b[49m\u001b[43m(\u001b[49m\u001b[43mcorpus\u001b[49m\u001b[43m)\u001b[49m)\n",
      "\u001b[36mCell\u001b[39m\u001b[36m \u001b[39m\u001b[32mIn[5]\u001b[39m\u001b[32m, line 11\u001b[39m, in \u001b[36mget_stats\u001b[39m\u001b[34m(vocab)\u001b[39m\n\u001b[32m      9\u001b[39m     symbols = word.split()\n\u001b[32m     10\u001b[39m     \u001b[38;5;28;01mfor\u001b[39;00m i \u001b[38;5;129;01min\u001b[39;00m \u001b[38;5;28mrange\u001b[39m(\u001b[38;5;28mlen\u001b[39m(symbols)-\u001b[32m1\u001b[39m):\n\u001b[32m---> \u001b[39m\u001b[32m11\u001b[39m         \u001b[43mpairs\u001b[49m\u001b[43m[\u001b[49m\u001b[43msymbols\u001b[49m\u001b[43m[\u001b[49m\u001b[43mi\u001b[49m\u001b[43m]\u001b[49m\u001b[43m,\u001b[49m\u001b[43m \u001b[49m\u001b[43msymbols\u001b[49m\u001b[43m[\u001b[49m\u001b[43mi\u001b[49m\u001b[43m+\u001b[49m\u001b[32;43m1\u001b[39;49m\u001b[43m]\u001b[49m\u001b[43m]\u001b[49m += freq\n\u001b[32m     12\u001b[39m \u001b[38;5;28;01mreturn\u001b[39;00m pairs\n",
      "\u001b[31mKeyError\u001b[39m: ('l', 'o')"
     ]
    }
   ],
   "source": [
    "import re\n",
    "from collections import defaultdict\n",
    "\n",
    "def get_stats(vocab):\n",
    "    \"\"\"Count frequency of adjacent symbol pairs\"\"\"\n",
    "    pairs = defaultdict(int)\n",
    "    \n",
    "    for word, freq in vocab.items():\n",
    "        symbols = word.split()\n",
    "        for i in range(len(symbols)-1):\n",
    "            pairs[symbols[i], symbols[i+1]] += freq\n",
    "    return pairs\n",
    "corpus = {\n",
    "    \"l o w\": 5,\n",
    "    \"l o w e r\": 2, \n",
    "    \"n e w e s t\": 6,\n",
    "    \"w i d e s t\": 3\n",
    "}\n",
    "print(get_stats(corpus))"
   ]
  },
  {
   "cell_type": "code",
   "execution_count": null,
   "id": "b81d759e-4b7c-4080-a172-821f4ffa5315",
   "metadata": {},
   "outputs": [],
   "source": []
  }
 ],
 "metadata": {
  "kernelspec": {
   "display_name": "Python 3 (ipykernel)",
   "language": "python",
   "name": "python3"
  },
  "language_info": {
   "codemirror_mode": {
    "name": "ipython",
    "version": 3
   },
   "file_extension": ".py",
   "mimetype": "text/x-python",
   "name": "python",
   "nbconvert_exporter": "python",
   "pygments_lexer": "ipython3",
   "version": "3.13.5"
  }
 },
 "nbformat": 4,
 "nbformat_minor": 5
}
