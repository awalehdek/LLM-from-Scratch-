{
 "cells": [
  {
   "cell_type": "markdown",
   "id": "d066c078-9e9d-45ca-9498-2023d507fb3b",
   "metadata": {},
   "source": [
    "# Step-by-Step Explanation of Byte Pair Encoding (BPE)\n",
    "\n",
    "#### Step 1 - Initialize Vocabulary: \n",
    "    - Individual characters (a, b, c, ..., space, punctuation\n",
    "    - Each character becomes a token in the initial vocabulary\n",
    "\n",
    "#### Step 2 - Train on Corpus:\n",
    "    -Count frequency of all adjacent token pairs in the training data: \n",
    "    - Find the most frequent pair (e.g., \"e\" + \"s\" = \"es\")\n",
    "\n",
    "#### Step 3 - Merge Most Frequent Pair: \n",
    "    - Replace all occurrences of that pair with a new single token\n",
    "    - Add this new merged token to vocabulary\n",
    "#### Step 4 - Repeat: \n",
    "    - Continue counting and merging until desired vocabulary size\n",
    "    - Each iteration creates more complex subword units"
   ]
  },
  {
   "cell_type": "code",
   "execution_count": 3,
   "id": "e6a78266-ef10-43cf-9e83-16f4c2f40404",
   "metadata": {},
   "outputs": [
    {
     "data": {
      "text/plain": [
       "'\\nInitial: \"low\", \"lower\", \"newest\"\\nChar vocab: l, o, w, e, r, n, s, t\\n\\nIteration 1: Most frequent pair \"e\" + \"s\" → merge to \"es\"\\nIteration 2: Most frequent pair \"es\" + \"t\" → merge to \"est\"  \\nIteration 3: Most frequent pair \"l\" + \"o\" → merge to \"lo\"\\n'"
      ]
     },
     "execution_count": 3,
     "metadata": {},
     "output_type": "execute_result"
    }
   ],
   "source": [
    "\"\"\"\n",
    "Initial: \"low\", \"lower\", \"newest\"\n",
    "Char vocab: l, o, w, e, r, n, s, t\n",
    "\n",
    "Iteration 1: Most frequent pair \"e\" + \"s\" → merge to \"es\"\n",
    "Iteration 2: Most frequent pair \"es\" + \"t\" → merge to \"est\"  \n",
    "Iteration 3: Most frequent pair \"l\" + \"o\" → merge to \"lo\"\n",
    "\"\"\""
   ]
  },
  {
   "cell_type": "code",
   "execution_count": 4,
   "id": "f94591f8-7bec-4ca6-847c-ab8205c0ace4",
   "metadata": {},
   "outputs": [
    {
     "name": "stdout",
     "output_type": "stream",
     "text": [
      "defaultdict(<class 'int'>, {('l', 'o'): 7, ('o', 'w'): 7, ('w', 'e'): 8, ('e', 'r'): 2, ('n', 'e'): 6, ('e', 'w'): 6, ('e', 's'): 9, ('s', 't'): 9, ('w', 'i'): 3, ('i', 'd'): 3, ('d', 'e'): 3})\n"
     ]
    }
   ],
   "source": [
    "import re\n",
    "from collections import defaultdict\n",
    "\n",
    "def get_stats(vocab):\n",
    "    \"\"\"Count frequency of adjacent symbol pairs\"\"\"\n",
    "    pairs = defaultdict(int)\n",
    "    \n",
    "    for word, freq in vocab.items():\n",
    "        symbols = word.split()\n",
    "        for i in range(len(symbols)-1):\n",
    "            pairs[symbols[i], symbols[i+1]] += freq\n",
    "    return pairs\n",
    "corpus = {\n",
    "    \"l o w\": 5,\n",
    "    \"l o w e r\": 2, \n",
    "    \"n e w e s t\": 6,\n",
    "    \"w i d e s t\": 3\n",
    "}\n",
    "print(get_stats(corpus))"
   ]
  },
  {
   "cell_type": "code",
   "execution_count": 5,
   "id": "b81d759e-4b7c-4080-a172-821f4ffa5315",
   "metadata": {},
   "outputs": [],
   "source": [
    "def merge_vocab(pair, vocab):\n",
    "    \"\"\"Merge the most frequent pair in all vocabulary words\"\"\"\n",
    "    first, second = pair\n",
    "    pattern = re.escape(f\"{first} {second}\")\n",
    "    replacement = f\"{first}{second}\"\n",
    "    \n",
    "    new_vocab = {}\n",
    "    for word, freq in vocab.items():\n",
    "        new_word = re.sub(pattern, replacement, word)\n",
    "        new_vocab[new_word] = freq\n",
    "    return new_vocab"
   ]
  },
  {
   "cell_type": "code",
   "execution_count": 6,
   "id": "90ce98a4-7aa2-415e-9294-6e3914ff4d06",
   "metadata": {},
   "outputs": [
    {
     "name": "stdout",
     "output_type": "stream",
     "text": [
      "Merge 1: Merging ('e', 's') (frequency: 9)\n",
      "Merge 2: Merging ('es', 't') (frequency: 9)\n",
      "Merge 3: Merging ('l', 'o') (frequency: 7)\n",
      "Merge 4: Merging ('lo', 'w') (frequency: 7)\n",
      "Merge 5: Merging ('n', 'e') (frequency: 6)\n",
      "Merge 6: Merging ('ne', 'w') (frequency: 6)\n",
      "Merge 7: Merging ('new', 'est') (frequency: 6)\n",
      "Merge 8: Merging ('w', 'i') (frequency: 3)\n",
      "Merge 9: Merging ('wi', 'd') (frequency: 3)\n",
      "Merge 10: Merging ('wid', 'est') (frequency: 3)\n",
      "\n",
      "Final vocabulary: ['low', 'low e r', 'newest', 'widest']\n"
     ]
    }
   ],
   "source": [
    "# BPE Training\n",
    "vocab = corpus\n",
    "num_merges = 10\n",
    "\n",
    "for i in range(num_merges):\n",
    "    pairs = get_stats(vocab)\n",
    "    if not pairs:\n",
    "        break\n",
    "        \n",
    "    # Find most frequent pair\n",
    "    best_pair = max(pairs, key=pairs.get)\n",
    "    print(f\"Merge {i+1}: Merging {best_pair} (frequency: {pairs[best_pair]})\")\n",
    "    \n",
    "    # Merge the pair\n",
    "    vocab = merge_vocab(best_pair, vocab)\n",
    "\n",
    "print(\"\\nFinal vocabulary:\", list(vocab.keys()))"
   ]
  },
  {
   "cell_type": "markdown",
   "id": "dfe0b435-d027-4a08-acad-cdbb52007e3e",
   "metadata": {},
   "source": [
    "# Subword Tokenization & How It's Used\n",
    "    1- Unknown words: Handles new/unseen words by breaking into known subwords\n",
    "    2- Morphological understanding: Learns word roots, prefixes, suffixes\n",
    "    3- Cross-lingual: Works across languages with shared character sets\n",
    "\n"
   ]
  },
  {
   "cell_type": "code",
   "execution_count": null,
   "id": "9c32f7aa-640d-4719-9fc4-cd6794d35ef4",
   "metadata": {},
   "outputs": [],
   "source": [
    "# Step-by-Step Process\n",
    "#  Step 1 - Initialize: Start with character-level tokens. Add special tokens (<unk>, <s>, </s>)\n",
    "# Step 2 - Frequency Counting: Count all adjacent symbol pairs in training data. Track pair frequencies across entire corpus\n",
    "# Step 3 - Merge Most Frequent: Find the most frequent symbol pair. \n",
    "#                               Merge them into a new single token. Add to vocabulary\n",
    "# Step 4 - Repeat: Continue merging until target vocabulary size. Each iteration creates longer subword units\n",
    "# Step 5 - Tokenize New Text: Greedily match longest possible subwords from vocabulary. Handle unknown words via character-level fallback\n",
    "\n",
    "# Example :  \n",
    "    #\"lower\", \"newest\", \"widest\", \"slowly\"\n",
    "    #Initial: l, o, w, e, r, n, s, t, i, d, y\n",
    "    \n",
    "    #Iteration 1: \"e\" + \"s\" → \"es\"  (appears in newest, widest)\n",
    "    #Vocabulary: l, o, w, e, r, n, s, t, i, d, y, es\n",
    "    \n",
    "   "
   ]
  },
  {
   "cell_type": "markdown",
   "id": "d8e23de2-5d4a-44b7-a3f9-0f5b2bd3fc38",
   "metadata": {},
   "source": [
    "# Byte Pair Encoding (BPE) Algorithm:\n",
    "BPE is a data compression technique adapted for NLP that iteratively replaces the most frequent pair of bytes."
   ]
  },
  {
   "cell_type": "code",
   "execution_count": 1,
   "id": "8c9ef64a-1ef1-47a3-b79b-adda874ce5f3",
   "metadata": {},
   "outputs": [],
   "source": [
    "# 1. Initializing\n",
    "# Start with character-level vocabulary\n",
    "vocab = {\n",
    "    'l o w </w>': 5,      # </w> marks word end\n",
    "    'l o w e r </w>': 2,\n",
    "    'n e w e s t </w>': 6,\n",
    "    'w i d e s t </w>': 3\n",
    "}\n",
    "\n",
    "# 2. Traning phase"
   ]
  },
  {
   "cell_type": "code",
   "execution_count": null,
   "id": "6232d29b-43f6-4723-9d55-61a682612c31",
   "metadata": {},
   "outputs": [],
   "source": []
  }
 ],
 "metadata": {
  "kernelspec": {
   "display_name": "Python 3 (ipykernel)",
   "language": "python",
   "name": "python3"
  },
  "language_info": {
   "codemirror_mode": {
    "name": "ipython",
    "version": 3
   },
   "file_extension": ".py",
   "mimetype": "text/x-python",
   "name": "python",
   "nbconvert_exporter": "python",
   "pygments_lexer": "ipython3",
   "version": "3.13.5"
  }
 },
 "nbformat": 4,
 "nbformat_minor": 5
}
